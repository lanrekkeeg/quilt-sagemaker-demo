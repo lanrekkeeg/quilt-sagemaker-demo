{
 "cells": [
  {
   "cell_type": "markdown",
   "metadata": {},
   "source": [
    "# sagemaker-demo-notebook\n",
    "\n",
    "This notebook is an interactive companion to the article. In it we will do the following:\n",
    "\n",
    "* Build a machine learning model image and store it on ECR, Amazon's container registry service.\n",
    "* Train a machine learning model based on the image we just pushed.\n",
    "* Deploy that model to a web endpoint.\n",
    "* Deploy an arbitrary Sagemaker-complaint model artifact to a web endpoint.\n",
    "* Perform a batch classification job using a SageMaker-compliant model artifact (unfinished?).\n",
    "\n",
    "You may run this notebook either locally or in an AWS SageMaker instance.\n",
    "\n",
    "If you are running locally, make sure that the account you are running this notebook under has all of the necessary permissions: `S3ReadOnlyAccess`, `SagemakerFullAccess`, `iam:GetRole`, and `ECRFullAccess`.\n",
    "\n",
    "If you are running on AWS SageMaker, make sure that the role you pass to the notebook instance has all of these permissions available. Note that the default SageMaker execution context is **not** enough; it has the first permissions in the list above but not the latter two. You need to attach those permissions to the instance yourself.\n",
    "\n",
    "\n",
    "## Getting the code\n",
    "\n",
    "We start by downloading the code from [its repository](https://github.com/ResidentMario/quilt-sagemaker-demo) on GitHub."
   ]
  },
  {
   "cell_type": "code",
   "execution_count": 1,
   "metadata": {},
   "outputs": [
    {
     "name": "stdout",
     "output_type": "stream",
     "text": [
      "Cloning into 'quilt-sagemaker-demo'...\n",
      "remote: Enumerating objects: 108, done.\u001b[K\n",
      "remote: Counting objects: 100% (108/108), done.\u001b[K\n",
      "remote: Compressing objects: 100% (72/72), done.\u001b[K\n",
      "remote: Total 108 (delta 58), reused 82 (delta 32), pack-reused 0\u001b[K\n",
      "Receiving objects: 100% (108/108), 861.00 KiB | 35.87 MiB/s, done.\n",
      "Resolving deltas: 100% (58/58), done.\n"
     ]
    }
   ],
   "source": [
    "!rm -rf quilt-sagemaker-demo > /dev/null 2>&1\n",
    "!git clone https://github.com/ResidentMario/quilt-sagemaker-demo"
   ]
  },
  {
   "cell_type": "code",
   "execution_count": 2,
   "metadata": {},
   "outputs": [
    {
     "name": "stdout",
     "output_type": "stream",
     "text": [
      "app.py       health-check-data.csv  sagemaker-demo-notebook.ipynb\r\n",
      "build.ipynb  requirements.txt\r\n",
      "Dockerfile   \u001b[0m\u001b[01;32mrun.sh\u001b[0m*\r\n"
     ]
    }
   ],
   "source": [
    "%ls quilt-sagemaker-demo"
   ]
  },
  {
   "cell_type": "markdown",
   "metadata": {},
   "source": [
    "The files are:\n",
    "* `build.ipynb` &mdash; A Jupyter notebook that walks through building and training a model for classifying clothing that is based on the Fashion MNIST dataset.\n",
    "* `app.py` &mdash; A simple `flask` app that serves a SageMaker-compliant model-as-an-app.\n",
    "* `health-check-data.csv` &mdash; A small sample dataset used to ping the web service for health checks.\n",
    "* `Dockerfile` &mdash; A Dockerfile that builds an image suitable for distribution on SageMaker.\n",
    "* `run.sh` &mdash; The image runtime entrypoint.\n",
    "* `requirements.txt` &mdash; A list of dependencies necesssary for building or running the model (locally or remotely).\n",
    "\n",
    "...and this notebook."
   ]
  },
  {
   "cell_type": "markdown",
   "metadata": {},
   "source": [
    "## Pusing the container\n",
    "\n",
    "The following shell script, inlined in this notebook, builds the Docker image we've imported and stores it in ECR."
   ]
  },
  {
   "cell_type": "code",
   "execution_count": 3,
   "metadata": {
    "scrolled": false
   },
   "outputs": [
    {
     "name": "stdout",
     "output_type": "stream",
     "text": [
      "Login Succeeded\n",
      "Sending build context to Docker daemon  1.351MB\r",
      "\r\n",
      "Step 1/14 : FROM python:3.6\n",
      "3.6: Pulling from library/python\n",
      "cd8eada9c7bb: Pulling fs layer\n",
      "c2677faec825: Pulling fs layer\n",
      "fcce419a96b1: Pulling fs layer\n",
      "045b51e26e75: Pulling fs layer\n",
      "3b969ad6f147: Pulling fs layer\n",
      "6992ba8c827e: Pulling fs layer\n",
      "15cdf2df3fc4: Pulling fs layer\n",
      "2929c9fb25e5: Pulling fs layer\n",
      "bf6c76496fdd: Pulling fs layer\n",
      "045b51e26e75: Waiting\n",
      "3b969ad6f147: Waiting\n",
      "6992ba8c827e: Waiting\n",
      "15cdf2df3fc4: Waiting\n",
      "2929c9fb25e5: Waiting\n",
      "bf6c76496fdd: Waiting\n",
      "fcce419a96b1: Verifying Checksum\n",
      "fcce419a96b1: Download complete\n",
      "c2677faec825: Verifying Checksum\n",
      "c2677faec825: Download complete\n",
      "cd8eada9c7bb: Verifying Checksum\n",
      "cd8eada9c7bb: Download complete\n",
      "6992ba8c827e: Verifying Checksum\n",
      "6992ba8c827e: Download complete\n",
      "15cdf2df3fc4: Verifying Checksum\n",
      "15cdf2df3fc4: Download complete\n",
      "045b51e26e75: Verifying Checksum\n",
      "045b51e26e75: Download complete\n",
      "2929c9fb25e5: Verifying Checksum\n",
      "2929c9fb25e5: Download complete\n",
      "bf6c76496fdd: Verifying Checksum\n",
      "bf6c76496fdd: Download complete\n",
      "cd8eada9c7bb: Pull complete\n",
      "c2677faec825: Pull complete\n",
      "fcce419a96b1: Pull complete\n",
      "3b969ad6f147: Verifying Checksum\n",
      "3b969ad6f147: Download complete\n",
      "045b51e26e75: Pull complete\n",
      "3b969ad6f147: Pull complete\n",
      "6992ba8c827e: Pull complete\n",
      "15cdf2df3fc4: Pull complete\n",
      "2929c9fb25e5: Pull complete\n",
      "bf6c76496fdd: Pull complete\n",
      "Digest: sha256:a01b318f4768a20a679da7d901de1676de0079bf85a01179611dd3fec67d5d66\n",
      "Status: Downloaded newer image for python:3.6\n",
      " ---> 55fb8aca33df\n",
      "Step 2/14 : RUN [\"mkdir\", \"app\"]\n",
      " ---> Running in a6c7cd173328\n",
      "Removing intermediate container a6c7cd173328\n",
      " ---> cbb7329fc679\n",
      "Step 3/14 : WORKDIR \"app\"\n",
      " ---> Running in 7a59a2d0b485\n",
      "Removing intermediate container 7a59a2d0b485\n",
      " ---> 740ccacacdff\n",
      "Step 4/14 : COPY \"requirements.txt\" .\n",
      " ---> 796a32e31f81\n",
      "Step 5/14 : RUN [\"pip\", \"install\", \"-r\", \"requirements.txt\"]\n",
      " ---> Running in 6503d423bfd4\n",
      "Collecting git+https://github.com/quiltdata/t4.git#subdirectory=api/python (from -r requirements.txt (line 3))\n",
      "  Cloning https://github.com/quiltdata/t4.git to /tmp/pip-req-build-i6lsz_xe\n",
      "Collecting numpy (from -r requirements.txt (line 1))\n",
      "  Downloading https://files.pythonhosted.org/packages/7b/74/54c5f9bb9bd4dae27a61ec1b39076a39d359b3fb7ba15da79ef23858a9d8/numpy-1.16.0-cp36-cp36m-manylinux1_x86_64.whl (17.3MB)\n",
      "Collecting pandas (from -r requirements.txt (line 2))\n",
      "  Downloading https://files.pythonhosted.org/packages/e1/d8/feeb346d41f181e83fba45224ab14a8d8af019b48af742e047f3845d8cff/pandas-0.23.4-cp36-cp36m-manylinux1_x86_64.whl (8.9MB)\n",
      "Collecting flask (from -r requirements.txt (line 4))\n",
      "  Downloading https://files.pythonhosted.org/packages/7f/e7/08578774ed4536d3242b14dacb4696386634607af824ea997202cd0edb4b/Flask-1.0.2-py2.py3-none-any.whl (91kB)\n",
      "Collecting tensorflow (from -r requirements.txt (line 5))\n",
      "  Downloading https://files.pythonhosted.org/packages/22/cc/ca70b78087015d21c5f3f93694107f34ebccb3be9624385a911d4b52ecef/tensorflow-1.12.0-cp36-cp36m-manylinux1_x86_64.whl (83.1MB)\n",
      "Collecting keras (from -r requirements.txt (line 6))\n",
      "  Downloading https://files.pythonhosted.org/packages/5e/10/aa32dad071ce52b5502266b5c659451cfd6ffcbf14e6c8c4f16c0ff5aaab/Keras-2.2.4-py2.py3-none-any.whl (312kB)\n",
      "Collecting jupyter (from -r requirements.txt (line 7))\n",
      "  Downloading https://files.pythonhosted.org/packages/83/df/0f5dd132200728a86190397e1ea87cd76244e42d39ec5e88efd25b2abd7e/jupyter-1.0.0-py2.py3-none-any.whl\n",
      "Collecting seaborn (from -r requirements.txt (line 8))\n",
      "  Downloading https://files.pythonhosted.org/packages/a8/76/220ba4420459d9c4c9c9587c6ce607bf56c25b3d3d2de62056efe482dadc/seaborn-0.9.0-py3-none-any.whl (208kB)\n",
      "Collecting scikit-learn (from -r requirements.txt (line 9))\n",
      "  Downloading https://files.pythonhosted.org/packages/0d/3a/b92670f5c368c20329ecc4c255993fae7934564d485c3ed7ea7b8da7f741/scikit_learn-0.20.2-cp36-cp36m-manylinux1_x86_64.whl (5.4MB)\n",
      "Collecting awscli (from -r requirements.txt (line 10))\n",
      "  Downloading https://files.pythonhosted.org/packages/41/b5/4e48f49bcf38d10d027b419b9be0a0ce98a370a5f75e1a2e0640073e1a5b/awscli-1.16.92-py2.py3-none-any.whl (1.4MB)\n",
      "Collecting requests==2.20.0 (from -r requirements.txt (line 11))\n",
      "  Downloading https://files.pythonhosted.org/packages/f1/ca/10332a30cb25b627192b4ea272c351bce3ca1091e541245cccbace6051d8/requests-2.20.0-py2.py3-none-any.whl (60kB)\n",
      "Collecting sagemaker (from -r requirements.txt (line 12))\n",
      "  Downloading https://files.pythonhosted.org/packages/ac/e2/518ef1953bb52976c6bcad3ea19a74e8ec8b267d304376ef1026cfa15263/sagemaker-1.18.0.tar.gz (256kB)\n",
      "Collecting appdirs>=1.4.0 (from t4==0.0.7->-r requirements.txt (line 3))\n",
      "  Downloading https://files.pythonhosted.org/packages/56/eb/810e700ed1349edde4cbdc1b2a21e28cdf115f9faf263f6bbf8447c1abf3/appdirs-1.4.3-py2.py3-none-any.whl\n",
      "Collecting aws-requests-auth>=0.4.2 (from t4==0.0.7->-r requirements.txt (line 3))\n",
      "  Downloading https://files.pythonhosted.org/packages/a7/ba/e1601d0508b4150f8fe503f681079a7c9a17f7aa44e0d5cc42b9e3abdb8e/aws-requests-auth-0.4.2.tar.gz\n",
      "Collecting boto3 (from t4==0.0.7->-r requirements.txt (line 3))\n",
      "  Downloading https://files.pythonhosted.org/packages/4b/93/9c00e96d877bccccf988d4244c56261aef536682d3ad1ee38db5ae742d3e/boto3-1.9.82-py2.py3-none-any.whl (128kB)\n",
      "Collecting elasticsearch~=6.3.1 (from t4==0.0.7->-r requirements.txt (line 3))\n",
      "  Downloading https://files.pythonhosted.org/packages/b1/f1/89735ebb863767516d55cee2cfdd5e2883ff1db903be3ba1fe15a1725adc/elasticsearch-6.3.1-py2.py3-none-any.whl (119kB)\n",
      "Collecting future>=0.16.0 (from t4==0.0.7->-r requirements.txt (line 3))\n",
      "  Downloading https://files.pythonhosted.org/packages/90/52/e20466b85000a181e1e144fd8305caf2cf475e2f9674e797b222f8105f5f/future-0.17.1.tar.gz (829kB)\n",
      "Collecting jsonlines==1.2.0 (from t4==0.0.7->-r requirements.txt (line 3))\n",
      "  Downloading https://files.pythonhosted.org/packages/4f/9a/ab96291470e305504aa4b7a2e0ec132e930da89eb3ca7a82fbe03167c131/jsonlines-1.2.0-py2.py3-none-any.whl\n",
      "Collecting packaging>=16.8 (from t4==0.0.7->-r requirements.txt (line 3))\n",
      "  Downloading https://files.pythonhosted.org/packages/89/d1/92e6df2e503a69df9faab187c684585f0136662c12bb1f36901d426f3fab/packaging-18.0-py2.py3-none-any.whl\n",
      "Collecting pyarrow>=0.9.0 (from t4==0.0.7->-r requirements.txt (line 3))\n",
      "  Downloading https://files.pythonhosted.org/packages/36/94/23135312f97b20d6457294606fb70fad43ef93b7bffe567088ebe3623703/pyarrow-0.11.1-cp36-cp36m-manylinux1_x86_64.whl (11.6MB)\n",
      "Collecting ruamel.yaml<=0.15.70 (from t4==0.0.7->-r requirements.txt (line 3))\n",
      "  Downloading https://files.pythonhosted.org/packages/6b/25/7982d70b5b3c66885d455cc72c82c7d46081bb955ac7a4fba1a1fbc9de85/ruamel.yaml-0.15.70-cp36-cp36m-manylinux1_x86_64.whl (646kB)\n",
      "Collecting six>=1.10.0 (from t4==0.0.7->-r requirements.txt (line 3))\n",
      "  Downloading https://files.pythonhosted.org/packages/73/fb/00a976f728d0d1fecfe898238ce23f502a721c0ac0ecfedb80e0d88c64e9/six-1.12.0-py2.py3-none-any.whl\n",
      "Collecting tqdm>=4.26.0 (from t4==0.0.7->-r requirements.txt (line 3))\n",
      "  Downloading https://files.pythonhosted.org/packages/ed/d6/3458d39cf4978f4ece846295e83daf5ece710ab0a4106774f7f7b3a68697/tqdm-4.29.1-py2.py3-none-any.whl (46kB)\n",
      "Collecting xattr>=0.9.6 (from t4==0.0.7->-r requirements.txt (line 3))\n",
      "  Downloading https://files.pythonhosted.org/packages/60/80/a1f35bfd3c7ffb78791b2a6a15c233584a102a20547fd96d48933ec453e7/xattr-0.9.6.tar.gz\n",
      "Collecting pytz>=2011k (from pandas->-r requirements.txt (line 2))\n",
      "  Downloading https://files.pythonhosted.org/packages/61/28/1d3920e4d1d50b19bc5d24398a7cd85cc7b9a75a490570d5a30c57622d34/pytz-2018.9-py2.py3-none-any.whl (510kB)\n",
      "Collecting python-dateutil>=2.5.0 (from pandas->-r requirements.txt (line 2))\n",
      "  Downloading https://files.pythonhosted.org/packages/74/68/d87d9b36af36f44254a8d512cbfc48369103a3b9e474be9bdfe536abfc45/python_dateutil-2.7.5-py2.py3-none-any.whl (225kB)\n",
      "Collecting Jinja2>=2.10 (from flask->-r requirements.txt (line 4))\n",
      "  Downloading https://files.pythonhosted.org/packages/7f/ff/ae64bacdfc95f27a016a7bed8e8686763ba4d277a78ca76f32659220a731/Jinja2-2.10-py2.py3-none-any.whl (126kB)\n",
      "Collecting Werkzeug>=0.14 (from flask->-r requirements.txt (line 4))\n",
      "  Downloading https://files.pythonhosted.org/packages/20/c4/12e3e56473e52375aa29c4764e70d1b8f3efa6682bef8d0aae04fe335243/Werkzeug-0.14.1-py2.py3-none-any.whl (322kB)\n",
      "Collecting itsdangerous>=0.24 (from flask->-r requirements.txt (line 4))\n",
      "  Downloading https://files.pythonhosted.org/packages/76/ae/44b03b253d6fade317f32c24d100b3b35c2239807046a4c953c7b89fa49e/itsdangerous-1.1.0-py2.py3-none-any.whl\n",
      "Collecting click>=5.1 (from flask->-r requirements.txt (line 4))\n",
      "  Downloading https://files.pythonhosted.org/packages/fa/37/45185cb5abbc30d7257104c434fe0b07e5a195a6847506c074527aa599ec/Click-7.0-py2.py3-none-any.whl (81kB)\n",
      "Collecting absl-py>=0.1.6 (from tensorflow->-r requirements.txt (line 5))\n",
      "  Downloading https://files.pythonhosted.org/packages/31/bc/ab68120d1d89ae23b694a55fe2aece2f91194313b71f9b05a80b32d3c24b/absl-py-0.7.0.tar.gz (96kB)\n",
      "Collecting keras-preprocessing>=1.0.5 (from tensorflow->-r requirements.txt (line 5))\n",
      "  Downloading https://files.pythonhosted.org/packages/fc/94/74e0fa783d3fc07e41715973435dd051ca89c550881b3454233c39c73e69/Keras_Preprocessing-1.0.5-py2.py3-none-any.whl\n",
      "Collecting protobuf>=3.6.1 (from tensorflow->-r requirements.txt (line 5))\n",
      "  Downloading https://files.pythonhosted.org/packages/c2/f9/28787754923612ca9bfdffc588daa05580ed70698add063a5629d1a4209d/protobuf-3.6.1-cp36-cp36m-manylinux1_x86_64.whl (1.1MB)\n",
      "Requirement already satisfied: wheel>=0.26 in /usr/local/lib/python3.6/site-packages (from tensorflow->-r requirements.txt (line 5)) (0.32.3)\n",
      "Collecting astor>=0.6.0 (from tensorflow->-r requirements.txt (line 5))\n",
      "  Downloading https://files.pythonhosted.org/packages/35/6b/11530768cac581a12952a2aad00e1526b89d242d0b9f59534ef6e6a1752f/astor-0.7.1-py2.py3-none-any.whl\n",
      "Collecting tensorboard<1.13.0,>=1.12.0 (from tensorflow->-r requirements.txt (line 5))\n",
      "  Downloading https://files.pythonhosted.org/packages/07/53/8d32ce9471c18f8d99028b7cef2e5b39ea8765bd7ef250ca05b490880971/tensorboard-1.12.2-py3-none-any.whl (3.0MB)\n",
      "Collecting termcolor>=1.1.0 (from tensorflow->-r requirements.txt (line 5))\n",
      "  Downloading https://files.pythonhosted.org/packages/8a/48/a76be51647d0eb9f10e2a4511bf3ffb8cc1e6b14e9e4fab46173aa79f981/termcolor-1.1.0.tar.gz\n",
      "Collecting grpcio>=1.8.6 (from tensorflow->-r requirements.txt (line 5))\n",
      "  Downloading https://files.pythonhosted.org/packages/51/a3/489ce6a67047263e9b0da8784b2925c4f89b688a6e33073c5bb6c4c2867f/grpcio-1.18.0-cp36-cp36m-manylinux1_x86_64.whl (10.6MB)\n",
      "Collecting keras-applications>=1.0.6 (from tensorflow->-r requirements.txt (line 5))\n",
      "  Downloading https://files.pythonhosted.org/packages/3f/c4/2ff40221029f7098d58f8d7fb99b97e8100f3293f9856f0fb5834bef100b/Keras_Applications-1.0.6-py2.py3-none-any.whl (44kB)\n",
      "Collecting gast>=0.2.0 (from tensorflow->-r requirements.txt (line 5))\n",
      "  Downloading https://files.pythonhosted.org/packages/4e/35/11749bf99b2d4e3cceb4d55ca22590b0d7c2c62b9de38ac4a4a7f4687421/gast-0.2.2.tar.gz\n",
      "Collecting scipy>=0.14 (from keras->-r requirements.txt (line 6))\n",
      "  Downloading https://files.pythonhosted.org/packages/67/e6/6d4edaceee6a110ecf6f318482f5229792f143e468b34a631f5a0899f56d/scipy-1.2.0-cp36-cp36m-manylinux1_x86_64.whl (26.6MB)\n",
      "Collecting h5py (from keras->-r requirements.txt (line 6))\n",
      "  Downloading https://files.pythonhosted.org/packages/30/99/d7d4fbf2d02bb30fb76179911a250074b55b852d34e98dd452a9f394ac06/h5py-2.9.0-cp36-cp36m-manylinux1_x86_64.whl (2.8MB)\n",
      "Collecting pyyaml (from keras->-r requirements.txt (line 6))\n",
      "  Downloading https://files.pythonhosted.org/packages/9e/a3/1d13970c3f36777c583f136c136f804d70f500168edc1edea6daa7200769/PyYAML-3.13.tar.gz (270kB)\n",
      "Collecting nbconvert (from jupyter->-r requirements.txt (line 7))\n",
      "  Downloading https://files.pythonhosted.org/packages/b5/bb/94c493051d60e5b9c0f7f9a368b324201818c1b1c4cae85d1e49a41846c7/nbconvert-5.4.0-py2.py3-none-any.whl (405kB)\n",
      "Collecting ipykernel (from jupyter->-r requirements.txt (line 7))\n",
      "  Downloading https://files.pythonhosted.org/packages/d8/b0/f0be5c5ab335196f5cce96e5b889a4fcf5bfe462eb0acc05cd7e2caf65eb/ipykernel-5.1.0-py3-none-any.whl (113kB)\n",
      "Collecting qtconsole (from jupyter->-r requirements.txt (line 7))\n",
      "  Downloading https://files.pythonhosted.org/packages/e0/7a/8aefbc0ed078dec7951ac9a06dcd1869243ecd7bcbce26fa47bf5e469a8f/qtconsole-4.4.3-py2.py3-none-any.whl (113kB)\n",
      "Collecting jupyter-console (from jupyter->-r requirements.txt (line 7))\n",
      "  Downloading https://files.pythonhosted.org/packages/cb/ee/6374ae8c21b7d0847f9c3722dcdfac986b8e54fa9ad9ea66e1eb6320d2b8/jupyter_console-6.0.0-py2.py3-none-any.whl\n",
      "Collecting ipywidgets (from jupyter->-r requirements.txt (line 7))\n",
      "  Downloading https://files.pythonhosted.org/packages/30/9a/a008c7b1183fac9e52066d80a379b3c64eab535bd9d86cdc29a0b766fd82/ipywidgets-7.4.2-py2.py3-none-any.whl (111kB)\n",
      "Collecting notebook (from jupyter->-r requirements.txt (line 7))\n",
      "  Downloading https://files.pythonhosted.org/packages/f8/a6/dbdf0954d073ab2cf5421cad20334d1e4c780da37205c04522c045298f67/notebook-5.7.4-py2.py3-none-any.whl (9.0MB)\n",
      "Collecting matplotlib>=1.4.3 (from seaborn->-r requirements.txt (line 8))\n",
      "  Downloading https://files.pythonhosted.org/packages/71/07/16d781df15be30df4acfd536c479268f1208b2dfbc91e9ca5d92c9caf673/matplotlib-3.0.2-cp36-cp36m-manylinux1_x86_64.whl (12.9MB)\n",
      "Collecting colorama<=0.3.9,>=0.2.5 (from awscli->-r requirements.txt (line 10))\n",
      "  Downloading https://files.pythonhosted.org/packages/db/c8/7dcf9dbcb22429512708fe3a547f8b6101c0d02137acbd892505aee57adf/colorama-0.3.9-py2.py3-none-any.whl\n",
      "Collecting rsa<=3.5.0,>=3.1.2 (from awscli->-r requirements.txt (line 10))\n",
      "  Downloading https://files.pythonhosted.org/packages/e1/ae/baedc9cb175552e95f3395c43055a6a5e125ae4d48a1d7a924baca83e92e/rsa-3.4.2-py2.py3-none-any.whl (46kB)\n",
      "Collecting docutils>=0.10 (from awscli->-r requirements.txt (line 10))\n",
      "  Downloading https://files.pythonhosted.org/packages/36/fa/08e9e6e0e3cbd1d362c3bbee8d01d0aedb2155c4ac112b19ef3cae8eed8d/docutils-0.14-py3-none-any.whl (543kB)\n",
      "Collecting s3transfer<0.2.0,>=0.1.12 (from awscli->-r requirements.txt (line 10))\n",
      "  Downloading https://files.pythonhosted.org/packages/d7/14/2a0004d487464d120c9fb85313a75cd3d71a7506955be458eebfe19a6b1d/s3transfer-0.1.13-py2.py3-none-any.whl (59kB)\n",
      "Collecting botocore==1.12.82 (from awscli->-r requirements.txt (line 10))\n",
      "  Downloading https://files.pythonhosted.org/packages/ee/3a/2c1ef0f7d9f13db88a3b1475bfc0eafacfd9e5a622ecf8fb34ffb0c33fe3/botocore-1.12.82-py2.py3-none-any.whl (5.2MB)\n",
      "Collecting certifi>=2017.4.17 (from requests==2.20.0->-r requirements.txt (line 11))\n",
      "  Downloading https://files.pythonhosted.org/packages/9f/e0/accfc1b56b57e9750eba272e24c4dddeac86852c2bebd1236674d7887e8a/certifi-2018.11.29-py2.py3-none-any.whl (154kB)\n",
      "Collecting urllib3<1.25,>=1.21.1 (from requests==2.20.0->-r requirements.txt (line 11))\n",
      "  Downloading https://files.pythonhosted.org/packages/62/00/ee1d7de624db8ba7090d1226aebefab96a2c71cd5cfa7629d6ad3f61b79e/urllib3-1.24.1-py2.py3-none-any.whl (118kB)\n",
      "Collecting idna<2.8,>=2.5 (from requests==2.20.0->-r requirements.txt (line 11))\n",
      "  Downloading https://files.pythonhosted.org/packages/4b/2a/0276479a4b3caeb8a8c1af2f8e4355746a97fab05a372e4a2c6a6b876165/idna-2.7-py2.py3-none-any.whl (58kB)\n",
      "Collecting chardet<3.1.0,>=3.0.2 (from requests==2.20.0->-r requirements.txt (line 11))\n",
      "  Downloading https://files.pythonhosted.org/packages/bc/a9/01ffebfb562e4274b6487b4bb1ddec7ca55ec7510b22e4c51f14098443b8/chardet-3.0.4-py2.py3-none-any.whl (133kB)\n",
      "Collecting protobuf3-to-dict>=0.1.5 (from sagemaker->-r requirements.txt (line 12))\n",
      "  Downloading https://files.pythonhosted.org/packages/6b/55/522bb43539fed463275ee803d79851faaebe86d17e7e3dbc89870d0322b9/protobuf3-to-dict-0.1.5.tar.gz\n",
      "Collecting docker-compose>=1.23.0 (from sagemaker->-r requirements.txt (line 12))\n",
      "  Downloading https://files.pythonhosted.org/packages/1e/6c/bf9879305530c4b765ef4eb3be76202788ca1037aec74d2c0ec73191d467/docker_compose-1.23.2-py2.py3-none-any.whl (131kB)\n",
      "Collecting jmespath<1.0.0,>=0.7.1 (from boto3->t4==0.0.7->-r requirements.txt (line 3))\n",
      "  Downloading https://files.pythonhosted.org/packages/b7/31/05c8d001f7f87f0f07289a5fc0fc3832e9a57f2dbd4d3b0fee70e0d51365/jmespath-0.9.3-py2.py3-none-any.whl\n",
      "Collecting pyparsing>=2.0.2 (from packaging>=16.8->t4==0.0.7->-r requirements.txt (line 3))\n",
      "  Downloading https://files.pythonhosted.org/packages/de/0a/001be530836743d8be6c2d85069f46fecf84ac6c18c7f5fb8125ee11d854/pyparsing-2.3.1-py2.py3-none-any.whl (61kB)\n",
      "Collecting cffi>=1.0.0 (from xattr>=0.9.6->t4==0.0.7->-r requirements.txt (line 3))\n",
      "  Downloading https://files.pythonhosted.org/packages/6d/c0/47db8f624f3e4e2f3f27be03a93379d1ba16a1450a7b1aacfa0366e2c0dd/cffi-1.11.5-cp36-cp36m-manylinux1_x86_64.whl (421kB)\n",
      "Collecting MarkupSafe>=0.23 (from Jinja2>=2.10->flask->-r requirements.txt (line 4))\n",
      "  Downloading https://files.pythonhosted.org/packages/08/04/f2191b50fb7f0712f03f064b71d8b4605190f2178ba02e975a87f7b89a0d/MarkupSafe-1.1.0-cp36-cp36m-manylinux1_x86_64.whl\n",
      "Requirement already satisfied: setuptools in /usr/local/lib/python3.6/site-packages (from protobuf>=3.6.1->tensorflow->-r requirements.txt (line 5)) (40.6.3)\n",
      "Collecting markdown>=2.6.8 (from tensorboard<1.13.0,>=1.12.0->tensorflow->-r requirements.txt (line 5))\n",
      "  Downloading https://files.pythonhosted.org/packages/7a/6b/5600647404ba15545ec37d2f7f58844d690baf2f81f3a60b862e48f29287/Markdown-3.0.1-py2.py3-none-any.whl (89kB)\n",
      "Collecting traitlets>=4.2 (from nbconvert->jupyter->-r requirements.txt (line 7))\n",
      "  Downloading https://files.pythonhosted.org/packages/93/d6/abcb22de61d78e2fc3959c964628a5771e47e7cc60d53e9342e21ed6cc9a/traitlets-4.3.2-py2.py3-none-any.whl (74kB)\n",
      "Collecting nbformat>=4.4 (from nbconvert->jupyter->-r requirements.txt (line 7))\n",
      "  Downloading https://files.pythonhosted.org/packages/da/27/9a654d2b6cc1eaa517d1c5a4405166c7f6d72f04f6e7eea41855fe808a46/nbformat-4.4.0-py2.py3-none-any.whl (155kB)\n",
      "Collecting testpath (from nbconvert->jupyter->-r requirements.txt (line 7))\n",
      "  Downloading https://files.pythonhosted.org/packages/be/a4/162f9ebb6489421fe46dcca2ae420369edfee4b563c668d93cb4605d12ba/testpath-0.4.2-py2.py3-none-any.whl (163kB)\n",
      "Collecting bleach (from nbconvert->jupyter->-r requirements.txt (line 7))\n",
      "  Downloading https://files.pythonhosted.org/packages/ab/05/27e1466475e816d3001efb6e0a85a819be17411420494a1e602c36f8299d/bleach-3.1.0-py2.py3-none-any.whl (157kB)\n",
      "Collecting defusedxml (from nbconvert->jupyter->-r requirements.txt (line 7))\n",
      "  Downloading https://files.pythonhosted.org/packages/87/1c/17f3e3935a913dfe2a5ca85fa5ccbef366bfd82eb318b1f75dadbf0affca/defusedxml-0.5.0-py2.py3-none-any.whl\n",
      "Collecting jupyter-core (from nbconvert->jupyter->-r requirements.txt (line 7))\n",
      "  Downloading https://files.pythonhosted.org/packages/1d/44/065d2d7bae7bebc06f1dd70d23c36da8c50c0f08b4236716743d706762a8/jupyter_core-4.4.0-py2.py3-none-any.whl (126kB)\n",
      "Collecting entrypoints>=0.2.2 (from nbconvert->jupyter->-r requirements.txt (line 7))\n",
      "  Downloading https://files.pythonhosted.org/packages/ac/c6/44694103f8c221443ee6b0041f69e2740d89a25641e62fb4f2ee568f2f9c/entrypoints-0.3-py2.py3-none-any.whl\n",
      "Collecting pandocfilters>=1.4.1 (from nbconvert->jupyter->-r requirements.txt (line 7))\n",
      "  Downloading https://files.pythonhosted.org/packages/4c/ea/236e2584af67bb6df960832731a6e5325fd4441de001767da328c33368ce/pandocfilters-1.4.2.tar.gz\n",
      "Collecting pygments (from nbconvert->jupyter->-r requirements.txt (line 7))\n",
      "  Downloading https://files.pythonhosted.org/packages/13/e5/6d710c9cf96c31ac82657bcfb441df328b22df8564d58d0c4cd62612674c/Pygments-2.3.1-py2.py3-none-any.whl (849kB)\n",
      "Collecting mistune>=0.8.1 (from nbconvert->jupyter->-r requirements.txt (line 7))\n",
      "  Downloading https://files.pythonhosted.org/packages/09/ec/4b43dae793655b7d8a25f76119624350b4d65eb663459eb9603d7f1f0345/mistune-0.8.4-py2.py3-none-any.whl\n",
      "Collecting jupyter-client (from ipykernel->jupyter->-r requirements.txt (line 7))\n",
      "  Downloading https://files.pythonhosted.org/packages/3b/c3/3043fe9ffd140d03c9d091a056794ccdc427c56ec19b8eea74f9ea0a498f/jupyter_client-5.2.4-py2.py3-none-any.whl (89kB)\n",
      "Collecting ipython>=5.0.0 (from ipykernel->jupyter->-r requirements.txt (line 7))\n",
      "  Downloading https://files.pythonhosted.org/packages/f0/b4/a9ea018c73a84ee6280b2e94a1a6af8d63e45903eac2da0640fa63bca4db/ipython-7.2.0-py3-none-any.whl (765kB)\n",
      "Collecting tornado>=4.2 (from ipykernel->jupyter->-r requirements.txt (line 7))\n",
      "  Downloading https://files.pythonhosted.org/packages/e6/78/6e7b5af12c12bdf38ca9bfe863fcaf53dc10430a312d0324e76c1e5ca426/tornado-5.1.1.tar.gz (516kB)\n",
      "Collecting ipython-genutils (from qtconsole->jupyter->-r requirements.txt (line 7))\n",
      "  Downloading https://files.pythonhosted.org/packages/fa/bc/9bd3b5c2b4774d5f33b2d544f1460be9df7df2fe42f352135381c347c69a/ipython_genutils-0.2.0-py2.py3-none-any.whl\n",
      "Collecting prompt-toolkit<2.1.0,>=2.0.0 (from jupyter-console->jupyter->-r requirements.txt (line 7))\n",
      "  Downloading https://files.pythonhosted.org/packages/d1/e6/adb3be5576f5d27c6faa33f1e9fea8fe5dbd9351db12148de948507e352c/prompt_toolkit-2.0.7-py3-none-any.whl (338kB)\n",
      "Collecting widgetsnbextension~=3.4.0 (from ipywidgets->jupyter->-r requirements.txt (line 7))\n",
      "  Downloading https://files.pythonhosted.org/packages/8a/81/35789a3952afb48238289171728072d26d6e76649ddc8b3588657a2d78c1/widgetsnbextension-3.4.2-py2.py3-none-any.whl (2.2MB)\n",
      "Collecting Send2Trash (from notebook->jupyter->-r requirements.txt (line 7))\n",
      "  Downloading https://files.pythonhosted.org/packages/49/46/c3dc27481d1cc57b9385aff41c474ceb7714f7935b1247194adae45db714/Send2Trash-1.5.0-py3-none-any.whl\n",
      "Collecting pyzmq>=17 (from notebook->jupyter->-r requirements.txt (line 7))\n",
      "  Downloading https://files.pythonhosted.org/packages/48/93/59592cb294761aaa40589b544eaa5175446d687ff95beeeb666de60f3274/pyzmq-17.1.2-cp36-cp36m-manylinux1_x86_64.whl (998kB)\n",
      "Collecting terminado>=0.8.1 (from notebook->jupyter->-r requirements.txt (line 7))\n",
      "  Downloading https://files.pythonhosted.org/packages/2e/20/a26211a24425923d46e1213b376a6ee60dc30bcdf1b0c345e2c3769deb1c/terminado-0.8.1-py2.py3-none-any.whl\n",
      "Collecting prometheus-client (from notebook->jupyter->-r requirements.txt (line 7))\n",
      "  Downloading https://files.pythonhosted.org/packages/bc/e1/3cddac03c8992815519c5f50493097f6508fa153d067b494db8ab5e9c4ce/prometheus_client-0.5.0.tar.gz\n",
      "Collecting kiwisolver>=1.0.1 (from matplotlib>=1.4.3->seaborn->-r requirements.txt (line 8))\n",
      "  Downloading https://files.pythonhosted.org/packages/69/a7/88719d132b18300b4369fbffa741841cfd36d1e637e1990f27929945b538/kiwisolver-1.0.1-cp36-cp36m-manylinux1_x86_64.whl (949kB)\n",
      "Collecting cycler>=0.10 (from matplotlib>=1.4.3->seaborn->-r requirements.txt (line 8))\n",
      "  Downloading https://files.pythonhosted.org/packages/f7/d2/e07d3ebb2bd7af696440ce7e754c59dd546ffe1bbe732c8ab68b9c834e61/cycler-0.10.0-py2.py3-none-any.whl\n",
      "Collecting pyasn1>=0.1.3 (from rsa<=3.5.0,>=3.1.2->awscli->-r requirements.txt (line 10))\n",
      "  Downloading https://files.pythonhosted.org/packages/7b/7c/c9386b82a25115cccf1903441bba3cbadcfae7b678a20167347fa8ded34c/pyasn1-0.4.5-py2.py3-none-any.whl (73kB)\n",
      "Collecting docopt<0.7,>=0.6.1 (from docker-compose>=1.23.0->sagemaker->-r requirements.txt (line 12))\n",
      "  Downloading https://files.pythonhosted.org/packages/a2/55/8f8cab2afd404cf578136ef2cc5dfb50baa1761b68c9da1fb1e4eed343c9/docopt-0.6.2.tar.gz\n",
      "Collecting docker<4.0,>=3.6.0 (from docker-compose>=1.23.0->sagemaker->-r requirements.txt (line 12))\n",
      "  Downloading https://files.pythonhosted.org/packages/7e/3c/b610f22b170b0f8fe4d8f78974878e116562389f666f99e6549567eb9d87/docker-3.7.0-py2.py3-none-any.whl (133kB)\n",
      "Collecting jsonschema<3,>=2.5.1 (from docker-compose>=1.23.0->sagemaker->-r requirements.txt (line 12))\n",
      "  Downloading https://files.pythonhosted.org/packages/77/de/47e35a97b2b05c2fadbec67d44cfcdcd09b8086951b331d82de90d2912da/jsonschema-2.6.0-py2.py3-none-any.whl\n",
      "Collecting dockerpty<0.5,>=0.4.1 (from docker-compose>=1.23.0->sagemaker->-r requirements.txt (line 12))\n",
      "  Downloading https://files.pythonhosted.org/packages/8d/ee/e9ecce4c32204a6738e0a5d5883d3413794d7498fe8b06f44becc028d3ba/dockerpty-0.4.1.tar.gz\n",
      "Collecting cached-property<2,>=1.2.0 (from docker-compose>=1.23.0->sagemaker->-r requirements.txt (line 12))\n",
      "  Downloading https://files.pythonhosted.org/packages/3b/86/85c1be2e8db9e13ef9a350aecd6dea292bd612fa288c2f40d035bb750ded/cached_property-1.5.1-py2.py3-none-any.whl\n",
      "Collecting websocket-client<1.0,>=0.32.0 (from docker-compose>=1.23.0->sagemaker->-r requirements.txt (line 12))\n",
      "  Downloading https://files.pythonhosted.org/packages/26/2d/f749a5c82f6192d77ed061a38e02001afcba55fe8477336d26a950ab17ce/websocket_client-0.54.0-py2.py3-none-any.whl (200kB)\n",
      "Collecting texttable<0.10,>=0.9.0 (from docker-compose>=1.23.0->sagemaker->-r requirements.txt (line 12))\n",
      "  Downloading https://files.pythonhosted.org/packages/02/e1/2565e6b842de7945af0555167d33acfc8a615584ef7abd30d1eae00a4d80/texttable-0.9.1.tar.gz\n",
      "Collecting pycparser (from cffi>=1.0.0->xattr>=0.9.6->t4==0.0.7->-r requirements.txt (line 3))\n",
      "  Downloading https://files.pythonhosted.org/packages/68/9e/49196946aee219aead1290e00d1e7fdeab8567783e83e1b9ab5585e6206a/pycparser-2.19.tar.gz (158kB)\n",
      "Collecting decorator (from traitlets>=4.2->nbconvert->jupyter->-r requirements.txt (line 7))\n",
      "  Downloading https://files.pythonhosted.org/packages/bc/bb/a24838832ba35baf52f32ab1a49b906b5f82fb7c76b2f6a7e35e140bac30/decorator-4.3.0-py2.py3-none-any.whl\n",
      "Collecting webencodings (from bleach->nbconvert->jupyter->-r requirements.txt (line 7))\n",
      "  Downloading https://files.pythonhosted.org/packages/f4/24/2a3e3df732393fed8b3ebf2ec078f05546de641fe1b667ee316ec1dcf3b7/webencodings-0.5.1-py2.py3-none-any.whl\n",
      "Collecting pexpect; sys_platform != \"win32\" (from ipython>=5.0.0->ipykernel->jupyter->-r requirements.txt (line 7))\n",
      "  Downloading https://files.pythonhosted.org/packages/89/e6/b5a1de8b0cc4e07ca1b305a4fcc3f9806025c1b651ea302646341222f88b/pexpect-4.6.0-py2.py3-none-any.whl (57kB)\n",
      "Collecting jedi>=0.10 (from ipython>=5.0.0->ipykernel->jupyter->-r requirements.txt (line 7))\n",
      "  Downloading https://files.pythonhosted.org/packages/c2/bc/54d53f5bc4658380d0eca9055d72be4df45e5bfd91a4bac97da224a92553/jedi-0.13.2-py2.py3-none-any.whl (177kB)\n",
      "Collecting backcall (from ipython>=5.0.0->ipykernel->jupyter->-r requirements.txt (line 7))\n",
      "  Downloading https://files.pythonhosted.org/packages/84/71/c8ca4f5bb1e08401b916c68003acf0a0655df935d74d93bf3f3364b310e0/backcall-0.1.0.tar.gz\n",
      "Collecting pickleshare (from ipython>=5.0.0->ipykernel->jupyter->-r requirements.txt (line 7))\n",
      "  Downloading https://files.pythonhosted.org/packages/9a/41/220f49aaea88bc6fa6cba8d05ecf24676326156c23b991e80b3f2fc24c77/pickleshare-0.7.5-py2.py3-none-any.whl\n",
      "Collecting wcwidth (from prompt-toolkit<2.1.0,>=2.0.0->jupyter-console->jupyter->-r requirements.txt (line 7))\n",
      "  Downloading https://files.pythonhosted.org/packages/7e/9f/526a6947247599b084ee5232e4f9190a38f398d7300d866af3ab571a5bfe/wcwidth-0.1.7-py2.py3-none-any.whl\n",
      "Collecting ptyprocess; os_name != \"nt\" (from terminado>=0.8.1->notebook->jupyter->-r requirements.txt (line 7))\n",
      "  Downloading https://files.pythonhosted.org/packages/d1/29/605c2cc68a9992d18dada28206eeada56ea4bd07a239669da41674648b6f/ptyprocess-0.6.0-py2.py3-none-any.whl\n",
      "Collecting docker-pycreds>=0.4.0 (from docker<4.0,>=3.6.0->docker-compose>=1.23.0->sagemaker->-r requirements.txt (line 12))\n",
      "  Downloading https://files.pythonhosted.org/packages/f5/e8/f6bd1eee09314e7e6dee49cbe2c5e22314ccdb38db16c9fc72d2fa80d054/docker_pycreds-0.4.0-py2.py3-none-any.whl\n",
      "Collecting parso>=0.3.0 (from jedi>=0.10->ipython>=5.0.0->ipykernel->jupyter->-r requirements.txt (line 7))\n",
      "  Downloading https://files.pythonhosted.org/packages/09/51/9c48a46334be50c13d25a3afe55fa05c445699304c5ad32619de953a2305/parso-0.3.1-py2.py3-none-any.whl (88kB)\n",
      "Building wheels for collected packages: sagemaker, t4, aws-requests-auth, future, xattr, absl-py, termcolor, gast, pyyaml, protobuf3-to-dict, pandocfilters, tornado, prometheus-client, docopt, dockerpty, texttable, pycparser, backcall\n",
      "  Running setup.py bdist_wheel for sagemaker: started\n",
      "  Running setup.py bdist_wheel for sagemaker: finished with status 'done'\n",
      "  Stored in directory: /root/.cache/pip/wheels/69/5b/c9/38645f6cf610f2b4c1fb73c7cbc85f7e97cd8f8e625a158d08\n",
      "  Running setup.py bdist_wheel for t4: started\n",
      "  Running setup.py bdist_wheel for t4: finished with status 'done'\n",
      "  Stored in directory: /tmp/pip-ephem-wheel-cache-b2eaikwu/wheels/b4/91/78/c594b014cb13ecd66bbfcd70f7ec3068642fbc559e4bd34c8b\n",
      "  Running setup.py bdist_wheel for aws-requests-auth: started\n",
      "  Running setup.py bdist_wheel for aws-requests-auth: finished with status 'done'\n",
      "  Stored in directory: /root/.cache/pip/wheels/3b/d7/e6/3bb2668c259b234ec78b7353f9063104dc449c1c89fc8e27f8\n",
      "  Running setup.py bdist_wheel for future: started\n",
      "  Running setup.py bdist_wheel for future: finished with status 'done'\n",
      "  Stored in directory: /root/.cache/pip/wheels/0c/61/d2/d6b7317325828fbb39ee6ad559dbe4664d0896da4721bf379e\n",
      "  Running setup.py bdist_wheel for xattr: started\n",
      "  Running setup.py bdist_wheel for xattr: finished with status 'done'\n",
      "  Stored in directory: /root/.cache/pip/wheels/8f/2d/20/eaf8403b661a46b93a1da3031f56eacb18eaae912d8a1683da\n",
      "  Running setup.py bdist_wheel for absl-py: started\n",
      "  Running setup.py bdist_wheel for absl-py: finished with status 'done'\n",
      "  Stored in directory: /root/.cache/pip/wheels/90/db/f8/2c3101f72ef1ad434e4662853174126ce30201a3e163dcbeca\n",
      "  Running setup.py bdist_wheel for termcolor: started\n",
      "  Running setup.py bdist_wheel for termcolor: finished with status 'done'\n",
      "  Stored in directory: /root/.cache/pip/wheels/7c/06/54/bc84598ba1daf8f970247f550b175aaaee85f68b4b0c5ab2c6\n",
      "  Running setup.py bdist_wheel for gast: started\n",
      "  Running setup.py bdist_wheel for gast: finished with status 'done'\n",
      "  Stored in directory: /root/.cache/pip/wheels/5c/2e/7e/a1d4d4fcebe6c381f378ce7743a3ced3699feb89bcfbdadadd\n",
      "  Running setup.py bdist_wheel for pyyaml: started\n",
      "  Running setup.py bdist_wheel for pyyaml: finished with status 'done'\n",
      "  Stored in directory: /root/.cache/pip/wheels/ad/da/0c/74eb680767247273e2cf2723482cb9c924fe70af57c334513f\n",
      "  Running setup.py bdist_wheel for protobuf3-to-dict: started\n",
      "  Running setup.py bdist_wheel for protobuf3-to-dict: finished with status 'done'\n",
      "  Stored in directory: /root/.cache/pip/wheels/37/42/d8/1609d310cabebc2cf60eca038fa2b0c8503412963734a6fc31\n",
      "  Running setup.py bdist_wheel for pandocfilters: started\n",
      "  Running setup.py bdist_wheel for pandocfilters: finished with status 'done'\n",
      "  Stored in directory: /root/.cache/pip/wheels/39/01/56/f1b08a6275acc59e846fa4c1e1b65dbc1919f20157d9e66c20\n",
      "  Running setup.py bdist_wheel for tornado: started\n",
      "  Running setup.py bdist_wheel for tornado: finished with status 'done'\n",
      "  Stored in directory: /root/.cache/pip/wheels/6d/e1/ce/f4ee2fa420cc6b940123c64992b81047816d0a9fad6b879325\n",
      "  Running setup.py bdist_wheel for prometheus-client: started\n",
      "  Running setup.py bdist_wheel for prometheus-client: finished with status 'done'\n",
      "  Stored in directory: /root/.cache/pip/wheels/1a/74/d7/dc59e0bf44fdfd6395c0076129453abf563e4aeca5d72c8574\n",
      "  Running setup.py bdist_wheel for docopt: started\n",
      "  Running setup.py bdist_wheel for docopt: finished with status 'done'\n",
      "  Stored in directory: /root/.cache/pip/wheels/9b/04/dd/7daf4150b6d9b12949298737de9431a324d4b797ffd63f526e\n",
      "  Running setup.py bdist_wheel for dockerpty: started\n",
      "  Running setup.py bdist_wheel for dockerpty: finished with status 'done'\n",
      "  Stored in directory: /root/.cache/pip/wheels/e5/1e/86/bd0a97a0907c6c654af654d5875d1d4383dd1f575f77cee4aa\n",
      "  Running setup.py bdist_wheel for texttable: started\n",
      "  Running setup.py bdist_wheel for texttable: finished with status 'done'\n",
      "  Stored in directory: /root/.cache/pip/wheels/99/1e/2b/8452d3a48dad98632787556a0f2f90d56703b39cdf7d142dd1\n",
      "  Running setup.py bdist_wheel for pycparser: started\n",
      "  Running setup.py bdist_wheel for pycparser: finished with status 'done'\n",
      "  Stored in directory: /root/.cache/pip/wheels/f2/9a/90/de94f8556265ddc9d9c8b271b0f63e57b26fb1d67a45564511\n",
      "  Running setup.py bdist_wheel for backcall: started\n",
      "  Running setup.py bdist_wheel for backcall: finished with status 'done'\n",
      "  Stored in directory: /root/.cache/pip/wheels/98/b0/dd/29e28ff615af3dda4c67cab719dd51357597eabff926976b45\n",
      "Successfully built sagemaker t4 aws-requests-auth future xattr absl-py termcolor gast pyyaml protobuf3-to-dict pandocfilters tornado prometheus-client docopt dockerpty texttable pycparser backcall\n",
      "Installing collected packages: numpy, pytz, six, python-dateutil, pandas, MarkupSafe, Jinja2, Werkzeug, itsdangerous, click, flask, absl-py, keras-preprocessing, protobuf, astor, markdown, grpcio, tensorboard, termcolor, h5py, keras-applications, gast, tensorflow, scipy, pyyaml, keras, decorator, ipython-genutils, traitlets, jsonschema, jupyter-core, nbformat, testpath, webencodings, bleach, defusedxml, entrypoints, pandocfilters, pygments, mistune, nbconvert, tornado, pyzmq, jupyter-client, ptyprocess, pexpect, parso, jedi, backcall, pickleshare, wcwidth, prompt-toolkit, ipython, ipykernel, qtconsole, jupyter-console, Send2Trash, terminado, prometheus-client, notebook, widgetsnbextension, ipywidgets, jupyter, pyparsing, kiwisolver, cycler, matplotlib, seaborn, scikit-learn, colorama, pyasn1, rsa, docutils, jmespath, urllib3, botocore, s3transfer, awscli, certifi, idna, chardet, requests, boto3, protobuf3-to-dict, docopt, websocket-client, docker-pycreds, docker, dockerpty, cached-property, texttable, docker-compose, sagemaker, appdirs, aws-requests-auth, elasticsearch, future, jsonlines, packaging, pyarrow, ruamel.yaml, tqdm, pycparser, cffi, xattr, t4\n",
      "Successfully installed Jinja2-2.10 MarkupSafe-1.1.0 Send2Trash-1.5.0 Werkzeug-0.14.1 absl-py-0.7.0 appdirs-1.4.3 astor-0.7.1 aws-requests-auth-0.4.2 awscli-1.16.92 backcall-0.1.0 bleach-3.1.0 boto3-1.9.82 botocore-1.12.82 cached-property-1.5.1 certifi-2018.11.29 cffi-1.11.5 chardet-3.0.4 click-7.0 colorama-0.3.9 cycler-0.10.0 decorator-4.3.0 defusedxml-0.5.0 docker-3.7.0 docker-compose-1.23.2 docker-pycreds-0.4.0 dockerpty-0.4.1 docopt-0.6.2 docutils-0.14 elasticsearch-6.3.1 entrypoints-0.3 flask-1.0.2 future-0.17.1 gast-0.2.2 grpcio-1.18.0 h5py-2.9.0 idna-2.7 ipykernel-5.1.0 ipython-7.2.0 ipython-genutils-0.2.0 ipywidgets-7.4.2 itsdangerous-1.1.0 jedi-0.13.2 jmespath-0.9.3 jsonlines-1.2.0 jsonschema-2.6.0 jupyter-1.0.0 jupyter-client-5.2.4 jupyter-console-6.0.0 jupyter-core-4.4.0 keras-2.2.4 keras-applications-1.0.6 keras-preprocessing-1.0.5 kiwisolver-1.0.1 markdown-3.0.1 matplotlib-3.0.2 mistune-0.8.4 nbconvert-5.4.0 nbformat-4.4.0 notebook-5.7.4 numpy-1.16.0 packaging-18.0 pandas-0.23.4 pandocfilters-1.4.2 parso-0.3.1 pexpect-4.6.0 pickleshare-0.7.5 prometheus-client-0.5.0 prompt-toolkit-2.0.7 protobuf-3.6.1 protobuf3-to-dict-0.1.5 ptyprocess-0.6.0 pyarrow-0.11.1 pyasn1-0.4.5 pycparser-2.19 pygments-2.3.1 pyparsing-2.3.1 python-dateutil-2.7.5 pytz-2018.9 pyyaml-3.13 pyzmq-17.1.2 qtconsole-4.4.3 requests-2.20.0 rsa-3.4.2 ruamel.yaml-0.15.70 s3transfer-0.1.13 sagemaker-1.18.0 scikit-learn-0.20.2 scipy-1.2.0 seaborn-0.9.0 six-1.12.0 t4-0.0.7 tensorboard-1.12.2 tensorflow-1.12.0 termcolor-1.1.0 terminado-0.8.1 testpath-0.4.2 texttable-0.9.1 tornado-5.1.1 tqdm-4.29.1 traitlets-4.3.2 urllib3-1.24.1 wcwidth-0.1.7 webencodings-0.5.1 websocket-client-0.54.0 widgetsnbextension-3.4.2 xattr-0.9.6\n",
      "Removing intermediate container 6503d423bfd4\n",
      " ---> 30272ac24199\n",
      "Step 6/14 : COPY \"app.py\" .\n",
      " ---> 6e86b79d52ff\n",
      "Step 7/14 : COPY \"run.sh\" .\n",
      " ---> 5e6713fe9edd\n",
      "Step 8/14 : COPY \"build.ipynb\" .\n",
      " ---> b9ee67386c7f\n",
      "Step 9/14 : COPY \"health-check-data.csv\" .\n",
      " ---> 6c842c7bc08c\n",
      "Step 10/14 : ENV FLASK_APP app.py\n",
      " ---> Running in 3ef8620833aa\n",
      "Removing intermediate container 3ef8620833aa\n",
      " ---> ed91b45ca165\n",
      "Step 11/14 : RUN [\"chmod\", \"+x\", \"./run.sh\"]\n",
      " ---> Running in 5676725cb657\n",
      "Removing intermediate container 5676725cb657\n",
      " ---> 17b66445ca0c\n",
      "Step 12/14 : EXPOSE 8080\n",
      " ---> Running in 961974a6a010\n",
      "Removing intermediate container 961974a6a010\n",
      " ---> 650bca3c7452\n",
      "Step 13/14 : ENTRYPOINT [\"./run.sh\"]\n",
      " ---> Running in 4dafb06d4e43\n",
      "Removing intermediate container 4dafb06d4e43\n",
      " ---> 0ca10e6a0c7d\n",
      "Step 14/14 : CMD [\"build\"]\n",
      " ---> Running in 06126ffcdf57\n",
      "Removing intermediate container 06126ffcdf57\n",
      " ---> 19c7d33a9343\n",
      "Successfully built 19c7d33a9343\n",
      "Successfully tagged quiltdata/sagemaker-demo:latest\n",
      "The push refers to repository [730278974607.dkr.ecr.us-east-1.amazonaws.com/quiltdata/sagemaker-demo]\n",
      "e222b5f0a1d0: Preparing\n",
      "5b7154e191ab: Preparing\n",
      "8a951811a9fc: Preparing\n",
      "ae0e470a4cd7: Preparing\n",
      "98c9f852c94c: Preparing\n",
      "99c8fbc39978: Preparing\n",
      "43f00b98a2d2: Preparing\n",
      "580f2924f7ca: Preparing\n",
      "91e3171ff3f4: Preparing\n",
      "8f30c8a64fbc: Preparing\n",
      "04d9107330ad: Preparing\n",
      "b82de10e4f8e: Preparing\n",
      "1a36262221c3: Preparing\n",
      "d2217ead3a1c: Preparing\n",
      "b53b57a50746: Preparing\n",
      "d2518892581f: Preparing\n",
      "c581f4ede92d: Preparing\n",
      "99c8fbc39978: Waiting\n",
      "43f00b98a2d2: Waiting\n",
      "580f2924f7ca: Waiting\n",
      "91e3171ff3f4: Waiting\n",
      "8f30c8a64fbc: Waiting\n",
      "04d9107330ad: Waiting\n",
      "b82de10e4f8e: Waiting\n",
      "1a36262221c3: Waiting\n",
      "d2217ead3a1c: Waiting\n",
      "b53b57a50746: Waiting\n",
      "d2518892581f: Waiting\n",
      "c581f4ede92d: Waiting\n",
      "5b7154e191ab: Pushed\n",
      "98c9f852c94c: Pushed\n",
      "e222b5f0a1d0: Pushed\n",
      "8a951811a9fc: Pushed\n",
      "ae0e470a4cd7: Pushed\n",
      "43f00b98a2d2: Pushed\n",
      "580f2924f7ca: Pushed\n",
      "8f30c8a64fbc: Pushed\n",
      "91e3171ff3f4: Pushed\n",
      "b82de10e4f8e: Pushed\n",
      "04d9107330ad: Pushed\n",
      "b53b57a50746: Pushed\n",
      "d2518892581f: Pushed\n",
      "d2217ead3a1c: Pushed\n",
      "c581f4ede92d: Pushed\n",
      "1a36262221c3: Pushed\n",
      "99c8fbc39978: Pushed\n",
      "latest: digest: sha256:b04b0dea9b2701c6c3c403b5a1a629974faa791c4c689b9c27cce3fdc6dd5998 size: 3885\n"
     ]
    },
    {
     "name": "stderr",
     "output_type": "stream",
     "text": [
      "WARNING! Using --password via the CLI is insecure. Use --password-stdin.\n",
      "WARNING! Your password will be stored unencrypted in /home/ec2-user/.docker/config.json.\n",
      "Configure a credential helper to remove this warning. See\n",
      "https://docs.docker.com/engine/reference/commandline/login/#credentials-store\n",
      "\n"
     ]
    }
   ],
   "source": [
    "%%sh\n",
    "\n",
    "# construct the ECR name.\n",
    "account=$(aws sts get-caller-identity --query Account --output text)\n",
    "region=$(aws configure get region)\n",
    "fullname=\"${account}.dkr.ecr.${region}.amazonaws.com/quiltdata/sagemaker-demo:latest\"\n",
    "\n",
    "# If the repository doesn't exist in ECR, create it.\n",
    "# The pipe trick redirects stderr to stdout and passes it /dev/null.\n",
    "# It's just there to silence the error.\n",
    "aws ecr describe-repositories --repository-names \"quiltdata/sagemaker-demo\" > /dev/null 2>&1\n",
    "\n",
    "# Check the error code, if it's non-zero then know we threw an error and no repo exists\n",
    "if [ $? -ne 0 ]\n",
    "then\n",
    "    aws ecr create-repository --repository-name \"quiltdata/sagemaker-demo\" > /dev/null\n",
    "fi\n",
    "\n",
    "# Get the login command from ECR and execute it directly\n",
    "$(aws ecr get-login --region ${region} --no-include-email)\n",
    "\n",
    "# Build the docker image, tag it with the full name, and push it to ECR\n",
    "docker build  -t \"quiltdata/sagemaker-demo\" quilt-sagemaker-demo/\n",
    "docker tag \"quiltdata/sagemaker-demo\" ${fullname}\n",
    "\n",
    "docker push ${fullname}"
   ]
  },
  {
   "cell_type": "markdown",
   "metadata": {},
   "source": [
    "## Training a model\n",
    "\n",
    "We use `sagemaker.estimator.Estimator` object to perform model training.\n",
    "\n",
    "Note that the `Estimator` object is parameterized with the image ARN (resource name), a role and session (passed down from the role executing this notebook instance), an instance and instance count, and an output path.\n",
    "\n",
    "The `output_path` is an interesting case. The default behavior of the various algorithms that SageMaker comes packaged with is to output a `*.tar.gz` model artifact into an S3 bucket, and this is a design pattern you are encouraged to use when using a custom image (as well) by e.g. the presence of this argument.\n",
    "\n",
    "Our image serializes model objects itself instead of relying on SageMaker to do it for us, rendering this argument useless. However it's not wise to omit it as SageMaker will automatically create a fresh run-dependent bucket for you if you do...\n",
    "\n",
    "**User note**: you should change `output_path` in the code cell that follows to any random S3 bucket that you own or that hasn't been claimed yet."
   ]
  },
  {
   "cell_type": "code",
   "execution_count": 4,
   "metadata": {},
   "outputs": [],
   "source": [
    "import boto3\n",
    "import re\n",
    "\n",
    "import os\n",
    "import numpy as np\n",
    "import pandas as pd\n",
    "\n",
    "from sagemaker import get_execution_role\n",
    "import sagemaker as sage"
   ]
  },
  {
   "cell_type": "code",
   "execution_count": 9,
   "metadata": {},
   "outputs": [],
   "source": [
    "# this line of code require additional iam:GetRole permissions.\n",
    "role = get_execution_role()\n",
    "\n",
    "sess = sage.Session()\n",
    "\n",
    "account = sess.boto_session.client('sts').get_caller_identity()['Account']\n",
    "region = sess.boto_session.region_name\n",
    "image = '{}.dkr.ecr.{}.amazonaws.com/quiltdata/sagemaker-demo'.format(account, region)"
   ]
  },
  {
   "cell_type": "markdown",
   "metadata": {},
   "source": [
    "Once the model is defined training is performed via `Esimator.fit`, mimicking the `scikit-learn` API."
   ]
  },
  {
   "cell_type": "code",
   "execution_count": 6,
   "metadata": {
    "scrolled": false
   },
   "outputs": [
    {
     "name": "stderr",
     "output_type": "stream",
     "text": [
      "INFO:sagemaker:Creating training-job with name: sagemaker-demo-2019-01-18-22-01-23-156\n"
     ]
    },
    {
     "name": "stdout",
     "output_type": "stream",
     "text": [
      "2019-01-18 22:01:23 Starting - Starting the training job...\n",
      "2019-01-18 22:01:31 Starting - Launching requested ML instances......\n",
      "2019-01-18 22:02:37 Starting - Preparing the instances for training......\n",
      "2019-01-18 22:03:47 Downloading - Downloading input data\n",
      "2019-01-18 22:03:47 Training - Downloading the training image.....\n",
      "\u001b[31m[NbConvertApp] Converting notebook build.ipynb to notebook\u001b[0m\n",
      "\u001b[31m[NbConvertApp] Executing notebook with kernel: python3\u001b[0m\n",
      "\n",
      "2019-01-18 22:04:29 Training - Training image download completed. Training in progress.\u001b[31m2019-01-18 22:04:58.244211: I tensorflow/core/platform/cpu_feature_guard.cc:141] Your CPU supports instructions that this TensorFlow binary was not compiled to use: AVX2 FMA\u001b[0m\n",
      "\u001b[31m[NbConvertApp] Writing 401021 bytes to build.ipynb\u001b[0m\n",
      "\n",
      "2019-01-18 22:05:31 Uploading - Uploading generated training model\n",
      "2019-01-18 22:05:31 Completed - Training job completed\n",
      "Billable seconds: 111\n"
     ]
    }
   ],
   "source": [
    "clf = sage.estimator.Estimator(image,\n",
    "                               role, 1, 'ml.c4.2xlarge',\n",
    "                               output_path=\"s3://quilt-example/quilt/quilt_sagemaker_demo/model\",\n",
    "                               sagemaker_session=sess)\n",
    "\n",
    "clf.fit()"
   ]
  },
  {
   "cell_type": "markdown",
   "metadata": {},
   "source": [
    "Running this code block trains out model and deposits it in a `clf.tar.gz` file in an S3 bucket somewhere."
   ]
  },
  {
   "cell_type": "markdown",
   "metadata": {},
   "source": [
    "## Deploying a model\n",
    "\n",
    "### Deploy a fitted model as an endpoint"
   ]
  },
  {
   "cell_type": "code",
   "execution_count": 17,
   "metadata": {
    "scrolled": false
   },
   "outputs": [
    {
     "name": "stderr",
     "output_type": "stream",
     "text": [
      "INFO:sagemaker:Creating model with name: sagemaker-demo-2019-01-18-22-11-52-395\n",
      "INFO:sagemaker:Creating endpoint with name sagemaker-demo-2019-01-18-22-01-23-156\n"
     ]
    },
    {
     "name": "stdout",
     "output_type": "stream",
     "text": [
      "----------------------------------------------------------------------------!"
     ]
    }
   ],
   "source": [
    "from sagemaker.predictor import csv_serializer\n",
    "predictor = clf.deploy(1, 'ml.m4.xlarge', serializer=csv_serializer)"
   ]
  },
  {
   "cell_type": "code",
   "execution_count": 30,
   "metadata": {},
   "outputs": [],
   "source": [
    "# This fails because it lacks an authentication token.\n",
    "# It might be possible to reconstruct the actual POST request being made.\n",
    "# predictor.sagemaker_session.boto_session.get_credentials().token\n",
    "# But the AWS docs are unclear about what name this hearder has.\n",
    "\n",
    "# !curl -X \"POST\" -H \"Content-Type: text/csv\" -d @health-check-data.csv URI"
   ]
  },
  {
   "cell_type": "code",
   "execution_count": 61,
   "metadata": {},
   "outputs": [],
   "source": [
    "X_test = pd.read_csv(\"./fashion-mnist_train.csv\").head().iloc[:, 1:].values"
   ]
  },
  {
   "cell_type": "code",
   "execution_count": 18,
   "metadata": {},
   "outputs": [
    {
     "name": "stderr",
     "output_type": "stream",
     "text": [
      "INFO:sagemaker:Deleting endpoint with name: sagemaker-demo-2019-01-18-22-01-23-156\n"
     ]
    }
   ],
   "source": [
    "sess.delete_endpoint(predictor.endpoint)"
   ]
  },
  {
   "cell_type": "markdown",
   "metadata": {},
   "source": [
    "#### Deploy a pre-trained model artifact as an endpoint"
   ]
  },
  {
   "cell_type": "code",
   "execution_count": 65,
   "metadata": {},
   "outputs": [],
   "source": [
    "from sagemaker import Model"
   ]
  },
  {
   "cell_type": "code",
   "execution_count": 9,
   "metadata": {},
   "outputs": [],
   "source": [
    "model = Model(\n",
    "    model_data='s3://quilt-example/quilt/quilt_sagemaker_demo/model/sagemaker-demo-2019-01-18-22-01-23-156/output/model.tar.gz',\n",
    "    image=image,\n",
    "    role=role,\n",
    "    sagemaker_session=sess\n",
    ")\n",
    "model.deploy(1, 'ml.c4.2xlarge')"
   ]
  },
  {
   "cell_type": "code",
   "execution_count": 8,
   "metadata": {},
   "outputs": [],
   "source": [
    "predictor = sage.predictor.RealTimePredictor(\n",
    "    'sagemaker-demo-2019-01-18-22-48-00-247', \n",
    "    sagemaker_session=sess, \n",
    "    content_type=\"text/csv\")"
   ]
  },
  {
   "cell_type": "code",
   "execution_count": 7,
   "metadata": {},
   "outputs": [],
   "source": [
    "inp = \"\\n\".join([\",\".join(l) for l in X_test.astype('str').tolist()])"
   ]
  },
  {
   "cell_type": "code",
   "execution_count": 6,
   "metadata": {},
   "outputs": [],
   "source": [
    "response = predictor.predict(inp)"
   ]
  },
  {
   "cell_type": "code",
   "execution_count": 5,
   "metadata": {},
   "outputs": [],
   "source": [
    "response"
   ]
  },
  {
   "cell_type": "markdown",
   "metadata": {},
   "source": [
    "#### Use a model artifact to perform a batch prediction run\n",
    "\n",
    "In order to perform a batch transform you must have a model."
   ]
  },
  {
   "cell_type": "code",
   "execution_count": 4,
   "metadata": {},
   "outputs": [],
   "source": [
    "transformer = sage.transformer.Transformer(\n",
    "    base_transform_job_name='Batch-Transform',\n",
    "    model_name='sagemaker-demo-2019-01-18-22-48-00-247',  # take this from a past training session\n",
    "    instance_count=1,\n",
    "    instance_type='ml.c4.xlarge',\n",
    "    output_path='s3://quilt-example/quilt/quilt_sagemaker_demo/model',\n",
    "    sagemaker_session=sess\n",
    ")"
   ]
  },
  {
   "cell_type": "code",
   "execution_count": 3,
   "metadata": {},
   "outputs": [],
   "source": [
    "# start the job\n",
    "# note: this requires that the input data be in exactly the format expected by the model!\n",
    "transformer.transform(\n",
    "    's3://alpha-quilt-storage/aleksey/fashion_mnist/fashion-mnist_train.csv', \n",
    "    content_type='text/csv', \n",
    "    split_type='Line'\n",
    ")\n",
    "\n",
    "# wait until transform job is completed\n",
    "transformer.wait()"
   ]
  },
  {
   "cell_type": "code",
   "execution_count": 1,
   "metadata": {},
   "outputs": [],
   "source": [
    "import boto3\n",
    "s3_client = boto3.resource('s3')"
   ]
  },
  {
   "cell_type": "code",
   "execution_count": 2,
   "metadata": {},
   "outputs": [],
   "source": [
    "s3_client.download_file('s3://quilt-example/', 'quilt_sagemaker_demo/model/[...]')"
   ]
  }
 ],
 "metadata": {
  "kernelspec": {
   "display_name": "conda_python3",
   "language": "python",
   "name": "conda_python3"
  },
  "language_info": {
   "codemirror_mode": {
    "name": "ipython",
    "version": 3
   },
   "file_extension": ".py",
   "mimetype": "text/x-python",
   "name": "python",
   "nbconvert_exporter": "python",
   "pygments_lexer": "ipython3",
   "version": "3.6.5"
  }
 },
 "nbformat": 4,
 "nbformat_minor": 2
}
